{
 "cells": [
  {
   "cell_type": "markdown",
   "metadata": {},
   "source": [
    "# Projection of Disparity Net C Result"
   ]
  },
  {
   "cell_type": "code",
   "execution_count": 1,
   "metadata": {},
   "outputs": [],
   "source": [
    "import matplotlib.pyplot as plt\n",
    "import cv2 as cv\n",
    "import numpy as np\n",
    "import IO as io\n",
    "import re\n",
    "import os\n",
    "import scipy.ndimage as ndimage\n",
    "\n",
    "%matplotlib inline"
   ]
  },
  {
   "cell_type": "code",
   "execution_count": 2,
   "metadata": {},
   "outputs": [
    {
     "name": "stdout",
     "output_type": "stream",
     "text": [
      "Stereo_SD_d_all_1_CT_cut.stl          Stereo_SD_d_all_1_MASK_right.png\r\n",
      "Stereo_SD_d_all_1_CT_cut_coverage.mps dn_c_st3d_1.result.pfm\r\n",
      "Stereo_SD_d_all_1_Calibration.txt     dn_c_st3d_1.result.png\r\n",
      "Stereo_SD_d_all_1_IMG_REC_left.bmp    dn_cs_st3d_1.result.pfm\r\n",
      "Stereo_SD_d_all_1_IMG_REC_right.bmp   dn_cs_st3d_1.result.png\r\n",
      "Stereo_SD_d_all_1_IMG_left.bmp        dn_s_st3d_1.result.pfm\r\n",
      "Stereo_SD_d_all_1_IMG_right.bmp       dn_s_st3d_1.result.png\r\n",
      "Stereo_SD_d_all_1_MASK_REC_eval.png   opencv_bm.result.pfm\r\n",
      "Stereo_SD_d_all_1_MASK_REC_left.png   opencv_bm.result.png\r\n",
      "Stereo_SD_d_all_1_MASK_REC_right.png  opencv_sgbm.result.pfm\r\n",
      "Stereo_SD_d_all_1_MASK_eval.png       opencv_sgbm.result.png\r\n",
      "Stereo_SD_d_all_1_MASK_left.png\r\n"
     ]
    }
   ],
   "source": [
    "!ls Stereo_SD_d_all/Stereo_SD_d_all_1/"
   ]
  },
  {
   "cell_type": "code",
   "execution_count": 3,
   "metadata": {},
   "outputs": [],
   "source": [
    "root_regex = re.compile(r\"stereo_sd_d_\\w+/Stereo_sd_d_(?P<type>\\w+)_(?P<number>\\d+)\", re.I)\n",
    "\n",
    "result_address = 'stereo_sd_d_{type}_result/disparity_net_c/Stereo_sd_d_{type}_{number}_result.{format}'\n",
    "\n",
    "mask_address = '/Stereo_SD_d_{type}_{number}_MASK_REC_eval.png'\n",
    "left_address = '/Stereo_SD_d_{type}_{number}_IMG_REC_left.bmp'\n",
    "\n",
    "calibration_regex = re.compile(r\"(?P<width>\\d+).0{10}\\s{2}(?P<height>\\d+).0{10}\\s{2}(?P<fx>\\d+.\\d{10})[\\s0.]+(?P<cx>\\d+.\\d{10})[\\s0.]+(?P<fy>\\d+.\\d{10})\\s{2}(?P<cy>\\d+.\\d{10})\", re.I)\n",
    "calibration_address = '/Stereo_SD_d_{type}_{number}_Calibration.txt'\n",
    "\n",
    "disparity_regex = re.compile(r\"dn_c_st3d_1.result.pfm\", re.I)\n"
   ]
  },
  {
   "cell_type": "code",
   "execution_count": 4,
   "metadata": {},
   "outputs": [],
   "source": [
    "def read_mask(root, type, number):\n",
    "    return plt.imread(root+mask_address.format(type=type, number=number))"
   ]
  },
  {
   "cell_type": "code",
   "execution_count": 5,
   "metadata": {},
   "outputs": [],
   "source": [
    "def read_left(root, type, number):\n",
    "    return plt.imread(root+left_address.format(type=type, number=number))"
   ]
  },
  {
   "cell_type": "code",
   "execution_count": 6,
   "metadata": {},
   "outputs": [],
   "source": [
    "def read_disparity(root):\n",
    "    return io.read(root+'/dn_c_st3d_1.result.pfm')"
   ]
  },
  {
   "cell_type": "code",
   "execution_count": 7,
   "metadata": {},
   "outputs": [],
   "source": [
    "def smoothen_disparity(disparity, kernel=9):\n",
    "    if kernel==0:\n",
    "        return disparity\n",
    "    return ndimage.gaussian_filter(disparity, sigma=kernel)"
   ]
  },
  {
   "cell_type": "code",
   "execution_count": 8,
   "metadata": {},
   "outputs": [],
   "source": [
    "def read_calibration(root, type, number):\n",
    "    calibration_file = open(root+calibration_address.format(type=type, number=number), 'r')\n",
    "    calibrations = [m.groupdict() for m in calibration_regex.finditer(calibration_file.read())]\n",
    "    for i in range(0,2):\n",
    "        for key in calibrations[i]:\n",
    "            calibrations[i][key] = np.float64(calibrations[i][key])\n",
    "    return calibrations"
   ]
  },
  {
   "cell_type": "code",
   "execution_count": 9,
   "metadata": {},
   "outputs": [],
   "source": [
    "def create_matrix_q(calibrations):\n",
    "    baseline = 4\n",
    "    return np.float32([\n",
    "        [1, 0, 0, -calibrations[1]['cx']],\n",
    "        [0, 1, 0, -calibrations[1]['cy']],\n",
    "        [0, 0, 0, calibrations[1]['fy']],\n",
    "        [0, 0, -1/baseline, 0]\n",
    "    ])"
   ]
  },
  {
   "cell_type": "code",
   "execution_count": 10,
   "metadata": {},
   "outputs": [],
   "source": [
    "def complete_point_cloud(point_cloud, left):\n",
    "    return np.hstack([-1*point_cloud.reshape(-1, 3), left.reshape(-1, 3)])"
   ]
  },
  {
   "cell_type": "code",
   "execution_count": 11,
   "metadata": {},
   "outputs": [],
   "source": [
    "def masked_point_cloud(point_cloud, left, mask):\n",
    "    return np.hstack([np.argwhere(mask == 0), (-1*point_cloud[mask==0]), left[mask==0]])"
   ]
  },
  {
   "cell_type": "code",
   "execution_count": 12,
   "metadata": {},
   "outputs": [],
   "source": [
    "def remove_outliers(colored_point_cloud, r=(0, 100)):\n",
    "    if colored_point_cloud.shape[1] == 8:\n",
    "        z = 4\n",
    "    else:\n",
    "        z = 2\n",
    "    x = colored_point_cloud[:, z]\n",
    "    x = x[x < r[1]]\n",
    "    x = x[x > r[0]]\n",
    "\n",
    "    mean = np.mean(x)\n",
    "    std = np.std(x)\n",
    "\n",
    "    up = mean+3*std\n",
    "    down = mean-3*std\n",
    "            \n",
    "    return colored_point_cloud[ (colored_point_cloud[:, z] < up) & (colored_point_cloud[:, z] > down) & ~np.isnan(colored_point_cloud[:, z]) ]\n"
   ]
  },
  {
   "cell_type": "code",
   "execution_count": 13,
   "metadata": {},
   "outputs": [],
   "source": [
    "def create_ply(vertices, filename):\n",
    "    if vertices.shape[1] == 8:\n",
    "        vertices = vertices.reshape(-1, 8)[:, 2:]\n",
    "    vertices[:, [0, 1, 2, 3, 4, 5]] = vertices[:, [1, 0, 2, 3, 4, 5]]  # Swapping Columns\n",
    "\n",
    "    ply_header = '''ply\n",
    "format ascii 1.0\n",
    "element vertex %(vert_num)d\n",
    "property float x\n",
    "property float y\n",
    "property float z\n",
    "property uchar red\n",
    "property uchar green\n",
    "property uchar blue\n",
    "end_header\n",
    "'''\n",
    "    with open(filename, 'w') as f:\n",
    "        f.write(ply_header % dict(vert_num=len(vertices)))\n",
    "        np.savetxt(f, vertices, '%f %f %f %d %d %d')"
   ]
  },
  {
   "cell_type": "code",
   "execution_count": 14,
   "metadata": {},
   "outputs": [],
   "source": [
    "def create_xyz(vertices, filename):\n",
    "    if not vertices.shape[1] == 8:\n",
    "        return False  # TODO: Replace with proper error handling\n",
    "    vertices = vertices.reshape(-1, 8)[:, 0:5]\n",
    "    vertices[:, [0, 1, 2, 3, 4]] = vertices[:, [1, 0, 3, 2, 4]]  # Swapping Columns\n",
    "\n",
    "    with open(filename, 'w') as f:\n",
    "        np.savetxt(f, vertices, '%d %d %f %f %f')"
   ]
  },
  {
   "cell_type": "code",
   "execution_count": 15,
   "metadata": {
    "scrolled": false
   },
   "outputs": [
    {
     "name": "stdout",
     "output_type": "stream",
     "text": [
      "distance 5\n",
      "distance 2\n",
      "distance 19\n",
      "distance 17\n",
      "distance 10\n",
      "distance 3\n",
      "distance 4\n",
      "distance 11\n",
      "distance 16\n",
      "distance 20\n",
      "distance 18\n",
      "distance 13\n",
      "distance 14\n",
      "distance 1\n",
      "distance 6\n",
      "distance 8\n",
      "distance 15\n",
      "distance 12\n",
      "distance 9\n",
      "distance 7\n",
      "all 30\n",
      "all 31\n",
      "all 14\n",
      "all 13\n",
      "all 25\n",
      "all 22\n",
      "all 23\n",
      "all 24\n",
      "all 12\n",
      "all 15\n",
      "all 5\n",
      "all 2\n",
      "all 3\n",
      "all 4\n",
      "all 33\n",
      "all 34\n",
      "all 35\n",
      "all 32\n",
      "all 10\n",
      "all 28\n",
      "all 17\n",
      "all 21\n",
      "all 19\n",
      "all 26\n",
      "all 18\n",
      "all 27\n",
      "all 20\n",
      "all 29\n",
      "all 16\n",
      "all 11\n",
      "all 1\n",
      "all 6\n",
      "all 8\n",
      "all 9\n",
      "all 7\n",
      "smoke 4\n",
      "smoke 3\n",
      "smoke 2\n",
      "smoke 5\n",
      "smoke 10\n",
      "smoke 9\n",
      "smoke 7\n",
      "smoke 6\n",
      "smoke 1\n",
      "smoke 8\n",
      "angle 14\n",
      "angle 13\n",
      "angle 12\n",
      "angle 15\n",
      "angle 5\n",
      "angle 2\n",
      "angle 3\n",
      "angle 4\n",
      "angle 10\n",
      "angle 17\n",
      "angle 19\n",
      "angle 18\n",
      "angle 20\n",
      "angle 16\n",
      "angle 11\n",
      "angle 8\n",
      "angle 1\n",
      "angle 6\n",
      "angle 7\n",
      "angle 9\n",
      "blood 2\n",
      "blood 3\n",
      "blood 4\n",
      "blood 1\n"
     ]
    }
   ],
   "source": [
    "for (root, dirs, files) in os.walk('./'):\n",
    "    for file in files:\n",
    "        if not re.search(disparity_regex, file):\n",
    "            continue\n",
    "        params = re.search(root_regex, root)\n",
    "        t, n = params.groups()\n",
    "        mask = read_mask(root, t, n)\n",
    "        left = read_left(root, t, n)\n",
    "        disparity = smoothen_disparity(read_disparity(root), kernel=9)\n",
    "        calibrations = read_calibration(root, t, n)\n",
    "        q = create_matrix_q(calibrations)\n",
    "        point_cloud = cv.reprojectImageTo3D(disparity, q)\n",
    "        c_point_cloud = remove_outliers(complete_point_cloud(point_cloud, left), r=(0, 150))\n",
    "        m_point_cloud = remove_outliers(masked_point_cloud(point_cloud, left, mask), r=(0, 150))\n",
    "        create_ply(c_point_cloud, result_address.format(type=t, number=n, format='complete.ply'))\n",
    "        create_ply(m_point_cloud, result_address.format(type=t, number=n, format='ply'))\n",
    "        create_xyz(m_point_cloud, result_address.format(type=t, number=n, format='xyz'))\n",
    "        print(t, n)"
   ]
  }
 ],
 "metadata": {
  "kernelspec": {
   "display_name": "Python 3",
   "language": "python",
   "name": "python3"
  },
  "language_info": {
   "codemirror_mode": {
    "name": "ipython",
    "version": 3
   },
   "file_extension": ".py",
   "mimetype": "text/x-python",
   "name": "python",
   "nbconvert_exporter": "python",
   "pygments_lexer": "ipython3",
   "version": "3.5.6"
  }
 },
 "nbformat": 4,
 "nbformat_minor": 2
}
