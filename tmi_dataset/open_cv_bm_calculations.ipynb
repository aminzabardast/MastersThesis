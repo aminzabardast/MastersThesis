{
 "cells": [
  {
   "cell_type": "markdown",
   "metadata": {},
   "source": [
    "# 1. Calculating Disparities using Open CV"
   ]
  },
  {
   "cell_type": "code",
   "execution_count": 1,
   "metadata": {},
   "outputs": [],
   "source": [
    "import cv2 as cv\n",
    "import numpy as np\n",
    "import matplotlib.pyplot as plt\n",
    "import os\n",
    "import re\n",
    "import IO as io"
   ]
  },
  {
   "cell_type": "code",
   "execution_count": 2,
   "metadata": {},
   "outputs": [],
   "source": [
    "root_regex = re.compile(r\"stereo_sd_d_\\w+/Stereo_sd_d_(?P<type>\\w+)_(?P<number>\\d+)\", re.I)"
   ]
  },
  {
   "cell_type": "code",
   "execution_count": 3,
   "metadata": {},
   "outputs": [],
   "source": [
    "def get_left_and_right_images(type, number):\n",
    "    left_address = directory.format(type=type, number=number)+ '/Stereo_SD_d_{type}_{number}_IMG_REC_left.bmp'.format(type=type, number=number)\n",
    "    right_address = directory.format(type=type, number=number)+'/Stereo_SD_d_{type}_{number}_IMG_REC_right.bmp'.format(type=type, number=number)\n",
    "    left_image = plt.imread(left_address)\n",
    "    right_image = plt.imread(right_address)\n",
    "    return left_image, right_image\n",
    "    "
   ]
  },
  {
   "cell_type": "code",
   "execution_count": 4,
   "metadata": {},
   "outputs": [],
   "source": [
    "stereo = cv.StereoBM_create(\n",
    "    numDisparities=80,\n",
    "    blockSize=11,\n",
    ")"
   ]
  },
  {
   "cell_type": "code",
   "execution_count": 5,
   "metadata": {},
   "outputs": [],
   "source": [
    "def creat_disparity_map(left, right):\n",
    "    return np.float32(stereo.compute(\n",
    "        cv.cvtColor(left, cv.COLOR_RGB2GRAY),\n",
    "        cv.cvtColor(right, cv.COLOR_RGB2GRAY),\n",
    "    )/(16))"
   ]
  },
  {
   "cell_type": "code",
   "execution_count": 6,
   "metadata": {},
   "outputs": [],
   "source": [
    "def save_disparity_map(type, number, disparity):\n",
    "    result_address = directory.format(type=type, number=number)+'/opencv_bm.result'.format()\n",
    "    io.write(result_address+'.pfm', disparity)\n",
    "    plt.imsave(result_address+'.png', disparity, cmap='jet')"
   ]
  },
  {
   "cell_type": "code",
   "execution_count": 7,
   "metadata": {
    "scrolled": true
   },
   "outputs": [],
   "source": [
    "directory = 'stereo_sd_d_{type}/Stereo_sd_d_{type}_{number}'\n",
    "for (root, dirs, files) in os.walk('./'):\n",
    "    params = re.search(root_regex, root)\n",
    "    if not params:\n",
    "        continue\n",
    "    t, n = params.groups()\n",
    "    left, right = get_left_and_right_images(t, n)\n",
    "    disparity = creat_disparity_map(left, right)\n",
    "    save_disparity_map(t, n, disparity)"
   ]
  }
 ],
 "metadata": {
  "kernelspec": {
   "display_name": "Python 3",
   "language": "python",
   "name": "python3"
  },
  "language_info": {
   "codemirror_mode": {
    "name": "ipython",
    "version": 3
   },
   "file_extension": ".py",
   "mimetype": "text/x-python",
   "name": "python",
   "nbconvert_exporter": "python",
   "pygments_lexer": "ipython3",
   "version": "3.5.6"
  }
 },
 "nbformat": 4,
 "nbformat_minor": 2
}
